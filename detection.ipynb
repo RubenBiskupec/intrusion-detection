{
 "cells": [
  {
   "cell_type": "code",
   "execution_count": 1,
   "id": "39330005-bef9-4a7c-bc42-bc6116b9aa57",
   "metadata": {},
   "outputs": [],
   "source": [
    "import dask.dataframe as dd\n",
    "\n",
    "# assume your dataframe is named \"df\"\n",
    "df = dd.read_csv('./imap-dataset-2.csv')"
   ]
  },
  {
   "cell_type": "code",
   "execution_count": 2,
   "id": "5f76b4ad-8be5-4834-acbc-e6e83b33737f",
   "metadata": {
    "tags": []
   },
   "outputs": [
    {
     "data": {
      "text/plain": [
       "10779175"
      ]
     },
     "execution_count": 2,
     "metadata": {},
     "output_type": "execute_result"
    }
   ],
   "source": [
    "len(df)"
   ]
  },
  {
   "cell_type": "code",
   "execution_count": 5,
   "id": "e2fbde9d-1b2b-4dd6-977e-9be88fe5cb39",
   "metadata": {
    "tags": []
   },
   "outputs": [
    {
     "ename": "NameError",
     "evalue": "name 'df' is not defined",
     "output_type": "error",
     "traceback": [
      "\u001b[0;31m---------------------------------------------------------------------------\u001b[0m",
      "\u001b[0;31mNameError\u001b[0m                                 Traceback (most recent call last)",
      "Cell \u001b[0;32mIn[5], line 2\u001b[0m\n\u001b[1;32m      1\u001b[0m \u001b[38;5;66;03m# Filter the rows where the \"command\" column is not equal to \"login\"\u001b[39;00m\n\u001b[0;32m----> 2\u001b[0m mask \u001b[38;5;241m=\u001b[39m \u001b[43mdf\u001b[49m[\u001b[38;5;124m'\u001b[39m\u001b[38;5;124mcommand\u001b[39m\u001b[38;5;124m'\u001b[39m] \u001b[38;5;241m!=\u001b[39m \u001b[38;5;124m'\u001b[39m\u001b[38;5;124mlogin\u001b[39m\u001b[38;5;124m'\u001b[39m\n\u001b[1;32m      3\u001b[0m df_filtered \u001b[38;5;241m=\u001b[39m df\u001b[38;5;241m.\u001b[39mloc[mask]\n\u001b[1;32m      5\u001b[0m \u001b[38;5;66;03m# Drop the filtered rows from the Dask DataFrame\u001b[39;00m\n",
      "\u001b[0;31mNameError\u001b[0m: name 'df' is not defined"
     ]
    }
   ],
   "source": [
    "# Filter the rows where the \"command\" column is not equal to \"login\"\n",
    "mask = df['command'] != 'login'\n",
    "df_filtered = df.loc[mask]\n",
    "\n",
    "# Drop the filtered rows from the Dask DataFrame\n",
    "df_dropped = df.loc[~mask]\n",
    "\n",
    "# Compute the result as a pandas DataFrame\n",
    "result = df_dropped.compute()"
   ]
  },
  {
   "cell_type": "code",
   "execution_count": 4,
   "id": "4879a6f0-bebf-43e3-8289-3e4cba5282b4",
   "metadata": {
    "tags": []
   },
   "outputs": [],
   "source": [
    "# Save the result to a CSV file\n",
    "result.to_csv('./login-events.csv', index=False)"
   ]
  },
  {
   "cell_type": "code",
   "execution_count": 18,
   "id": "2df4c5dd-6c24-485f-8417-5b64bf4985cd",
   "metadata": {
    "tags": []
   },
   "outputs": [],
   "source": [
    "### START FROM HERE\n",
    "import dask.dataframe as dd\n",
    "\n",
    "result = dd.read_csv('./login-events.csv')"
   ]
  },
  {
   "cell_type": "code",
   "execution_count": 19,
   "id": "ccda0cf3-45d2-4eaa-b3fb-8097d1849f69",
   "metadata": {
    "tags": []
   },
   "outputs": [
    {
     "name": "stdout",
     "output_type": "stream",
     "text": [
      "2278031\n"
     ]
    }
   ],
   "source": [
    "print(len(result))"
   ]
  },
  {
   "cell_type": "code",
   "execution_count": 7,
   "id": "f4150ffe-1124-4079-af8a-83a36b1e372c",
   "metadata": {
    "tags": []
   },
   "outputs": [
    {
     "data": {
      "text/plain": [
       "'\\nPossible errors\\nLogin Denied\\nr=\"xm001 no login failed.\";msg=logonfailed:logondenied;errmsg=logonfailed:logondenied\\n\\nActive Directory Error\\nr=\"z no [error=\"microsoft.exchange.data.storage.wrongserverexception:the user and the mailbox are in different active directory sites. --> microsoft.mapi.mapiexceptionmailboxintransit:mapiexceptionmailboxintransit: detected site violation (hr=0x0, ec=1292)\" authresult=0] login failed.\";msg=\"user:legacydn: /o=tue/ou=exchange administrative group (fydibohf23spdlt)/cn=recipients/cn=b28157203cc74cd483ce854c95539131-healthmailbox1e2de6d, recipienttype: usermailbox,\\n\\nLogin Ok\\nr=ok;msg=\"proxy:exch19mbx-op01.campus.adz.pi:1993:ssl;proxysuccess\";activitycontextdata=8696cf72-0aa5-4660-b683-ca2279c8acea\\n'"
      ]
     },
     "execution_count": 7,
     "metadata": {},
     "output_type": "execute_result"
    }
   ],
   "source": [
    "'''\n",
    "Possible errors\n",
    "Login Denied\n",
    "r=\"xm001 no login failed.\";msg=logonfailed:logondenied;errmsg=logonfailed:logondenied\n",
    "\n",
    "Active Directory Error\n",
    "r=\"z no [error=\"microsoft.exchange.data.storage.wrongserverexception:the user and the mailbox are in different active directory sites. --> microsoft.mapi.mapiexceptionmailboxintransit:mapiexceptionmailboxintransit: detected site violation (hr=0x0, ec=1292)\" authresult=0] login failed.\";msg=\"user:legacydn: /o=tue/ou=exchange administrative group (fydibohf23spdlt)/cn=recipients/cn=b28157203cc74cd483ce854c95539131-healthmailbox1e2de6d, recipienttype: usermailbox,\n",
    "\n",
    "Login Ok\n",
    "r=ok;msg=\"proxy:exch19mbx-op01.campus.adz.pi:1993:ssl;proxysuccess\";activitycontextdata=8696cf72-0aa5-4660-b683-ca2279c8acea\n",
    "'''"
   ]
  },
  {
   "cell_type": "code",
   "execution_count": 8,
   "id": "63ca1074-db4e-442b-82d8-e3e8d9036bf2",
   "metadata": {
    "tags": []
   },
   "outputs": [],
   "source": [
    "head = result.head(10000)"
   ]
  },
  {
   "cell_type": "code",
   "execution_count": 6,
   "id": "47a0fcce-a34f-43d7-8f8e-d54a450c7c4c",
   "metadata": {
    "tags": []
   },
   "outputs": [
    {
     "data": {
      "text/html": [
       "<div><strong>Dask DataFrame Structure:</strong></div>\n",
       "<div>\n",
       "<style scoped>\n",
       "    .dataframe tbody tr th:only-of-type {\n",
       "        vertical-align: middle;\n",
       "    }\n",
       "\n",
       "    .dataframe tbody tr th {\n",
       "        vertical-align: top;\n",
       "    }\n",
       "\n",
       "    .dataframe thead th {\n",
       "        text-align: right;\n",
       "    }\n",
       "</style>\n",
       "<table border=\"1\" class=\"dataframe\">\n",
       "  <thead>\n",
       "    <tr style=\"text-align: right;\">\n",
       "      <th></th>\n",
       "      <th>Unnamed: 0</th>\n",
       "      <th>index</th>\n",
       "      <th>dateTime</th>\n",
       "      <th>sessionId</th>\n",
       "      <th>seqNumber</th>\n",
       "      <th>sIp</th>\n",
       "      <th>cIp</th>\n",
       "      <th>user</th>\n",
       "      <th>duration</th>\n",
       "      <th>rqsize</th>\n",
       "      <th>rpsize</th>\n",
       "      <th>command</th>\n",
       "      <th>parameters</th>\n",
       "      <th>context</th>\n",
       "      <th>puid</th>\n",
       "      <th>server</th>\n",
       "      <th>ip</th>\n",
       "      <th>port</th>\n",
       "    </tr>\n",
       "    <tr>\n",
       "      <th>npartitions=9</th>\n",
       "      <th></th>\n",
       "      <th></th>\n",
       "      <th></th>\n",
       "      <th></th>\n",
       "      <th></th>\n",
       "      <th></th>\n",
       "      <th></th>\n",
       "      <th></th>\n",
       "      <th></th>\n",
       "      <th></th>\n",
       "      <th></th>\n",
       "      <th></th>\n",
       "      <th></th>\n",
       "      <th></th>\n",
       "      <th></th>\n",
       "      <th></th>\n",
       "      <th></th>\n",
       "      <th></th>\n",
       "    </tr>\n",
       "  </thead>\n",
       "  <tbody>\n",
       "    <tr>\n",
       "      <th></th>\n",
       "      <td>int64</td>\n",
       "      <td>int64</td>\n",
       "      <td>object</td>\n",
       "      <td>object</td>\n",
       "      <td>int64</td>\n",
       "      <td>object</td>\n",
       "      <td>object</td>\n",
       "      <td>object</td>\n",
       "      <td>int64</td>\n",
       "      <td>int64</td>\n",
       "      <td>int64</td>\n",
       "      <td>object</td>\n",
       "      <td>object</td>\n",
       "      <td>object</td>\n",
       "      <td>float64</td>\n",
       "      <td>object</td>\n",
       "      <td>object</td>\n",
       "      <td>int64</td>\n",
       "    </tr>\n",
       "    <tr>\n",
       "      <th></th>\n",
       "      <td>...</td>\n",
       "      <td>...</td>\n",
       "      <td>...</td>\n",
       "      <td>...</td>\n",
       "      <td>...</td>\n",
       "      <td>...</td>\n",
       "      <td>...</td>\n",
       "      <td>...</td>\n",
       "      <td>...</td>\n",
       "      <td>...</td>\n",
       "      <td>...</td>\n",
       "      <td>...</td>\n",
       "      <td>...</td>\n",
       "      <td>...</td>\n",
       "      <td>...</td>\n",
       "      <td>...</td>\n",
       "      <td>...</td>\n",
       "      <td>...</td>\n",
       "    </tr>\n",
       "    <tr>\n",
       "      <th>...</th>\n",
       "      <td>...</td>\n",
       "      <td>...</td>\n",
       "      <td>...</td>\n",
       "      <td>...</td>\n",
       "      <td>...</td>\n",
       "      <td>...</td>\n",
       "      <td>...</td>\n",
       "      <td>...</td>\n",
       "      <td>...</td>\n",
       "      <td>...</td>\n",
       "      <td>...</td>\n",
       "      <td>...</td>\n",
       "      <td>...</td>\n",
       "      <td>...</td>\n",
       "      <td>...</td>\n",
       "      <td>...</td>\n",
       "      <td>...</td>\n",
       "      <td>...</td>\n",
       "    </tr>\n",
       "    <tr>\n",
       "      <th></th>\n",
       "      <td>...</td>\n",
       "      <td>...</td>\n",
       "      <td>...</td>\n",
       "      <td>...</td>\n",
       "      <td>...</td>\n",
       "      <td>...</td>\n",
       "      <td>...</td>\n",
       "      <td>...</td>\n",
       "      <td>...</td>\n",
       "      <td>...</td>\n",
       "      <td>...</td>\n",
       "      <td>...</td>\n",
       "      <td>...</td>\n",
       "      <td>...</td>\n",
       "      <td>...</td>\n",
       "      <td>...</td>\n",
       "      <td>...</td>\n",
       "      <td>...</td>\n",
       "    </tr>\n",
       "    <tr>\n",
       "      <th></th>\n",
       "      <td>...</td>\n",
       "      <td>...</td>\n",
       "      <td>...</td>\n",
       "      <td>...</td>\n",
       "      <td>...</td>\n",
       "      <td>...</td>\n",
       "      <td>...</td>\n",
       "      <td>...</td>\n",
       "      <td>...</td>\n",
       "      <td>...</td>\n",
       "      <td>...</td>\n",
       "      <td>...</td>\n",
       "      <td>...</td>\n",
       "      <td>...</td>\n",
       "      <td>...</td>\n",
       "      <td>...</td>\n",
       "      <td>...</td>\n",
       "      <td>...</td>\n",
       "    </tr>\n",
       "  </tbody>\n",
       "</table>\n",
       "</div>\n",
       "<div>Dask Name: sort_values, 2 graph layers</div>"
      ],
      "text/plain": [
       "Dask DataFrame Structure:\n",
       "              Unnamed: 0  index dateTime sessionId seqNumber     sIp     cIp    user duration rqsize rpsize command parameters context     puid  server      ip   port\n",
       "npartitions=9                                                                                                                                                         \n",
       "                   int64  int64   object    object     int64  object  object  object    int64  int64  int64  object     object  object  float64  object  object  int64\n",
       "                     ...    ...      ...       ...       ...     ...     ...     ...      ...    ...    ...     ...        ...     ...      ...     ...     ...    ...\n",
       "...                  ...    ...      ...       ...       ...     ...     ...     ...      ...    ...    ...     ...        ...     ...      ...     ...     ...    ...\n",
       "                     ...    ...      ...       ...       ...     ...     ...     ...      ...    ...    ...     ...        ...     ...      ...     ...     ...    ...\n",
       "                     ...    ...      ...       ...       ...     ...     ...     ...      ...    ...    ...     ...        ...     ...      ...     ...     ...    ...\n",
       "Dask Name: sort_values, 2 graph layers"
      ]
     },
     "execution_count": 6,
     "metadata": {},
     "output_type": "execute_result"
    }
   ],
   "source": [
    "result.sort_values('dateTime')"
   ]
  },
  {
   "cell_type": "code",
   "execution_count": 14,
   "id": "e28c3a69-ede7-4660-9225-57660f1bd0b7",
   "metadata": {
    "tags": []
   },
   "outputs": [
    {
     "data": {
      "text/plain": [
       "1087"
      ]
     },
     "execution_count": 14,
     "metadata": {},
     "output_type": "execute_result"
    }
   ],
   "source": [
    "len(detected_users_set)"
   ]
  },
  {
   "cell_type": "code",
   "execution_count": 21,
   "id": "fc645ffd-4c61-4de8-8c5b-994088642cc7",
   "metadata": {
    "tags": []
   },
   "outputs": [],
   "source": [
    "class IpInfo:\n",
    "    def __init__(self, timestamp):\n",
    "        self.counter = 0\n",
    "        self.start_timestamp = timestamp\n",
    "        self.users = set()\n",
    "    \n",
    "    def __str__(self):\n",
    "        user_n = len(self.users)\n",
    "        return f\"User Info: counter = {self.counter}, {user_n} users\"\n",
    "            \n",
    "    def __repr__(self):\n",
    "        user_n = len(self.users)\n",
    "        return f\"User Info: counter = {self.counter}, {user_n} users\"\n",
    "    \n",
    "    def increase_counter(self):\n",
    "        self.counter += 1\n",
    "        return self.counter\n",
    "        \n",
    "    def reset_counter(self, timestamp):\n",
    "        self.counter = 0\n",
    "        self.start_timestamp = timestamp\n",
    "        \n",
    "    def get_counter(self):\n",
    "        return self.counter\n",
    "    \n",
    "    def get_start_timestamp(self):\n",
    "        return self.start_timestamp\n",
    "    \n",
    "    def set_start_timestamp(self, start_timestamp):\n",
    "        self.start_timestamp = start_timestamp\n",
    "        \n",
    "    def set_end_timestamp(self, end_timestamp):\n",
    "        self.end_timestamp = end_timestamp\n",
    "        \n",
    "    def get_timestamp_diff(self, end_timestamp):\n",
    "        # print(f\"Calculating difference between {self.start_timestamp} - {end_timestamp}\")\n",
    "        diff = end_timestamp - self.start_timestamp\n",
    "        diff = diff.item().total_seconds()\n",
    "        # print(f\"Result is {diff} seconds\")\n",
    "        return diff\n",
    "        \n",
    "    def get_users(self):\n",
    "        return self.users\n",
    "    \n",
    "    def add_user(self, user):\n",
    "        self.users.add(user)\n",
    "    \n",
    "    def reset_users(self):\n",
    "        self.users.clear()"
   ]
  },
  {
   "cell_type": "code",
   "execution_count": 3,
   "id": "255913bf-ef13-4d04-96a2-39e2842c33e3",
   "metadata": {},
   "outputs": [
    {
     "name": "stdout",
     "output_type": "stream",
     "text": [
      "50794\n",
      "51057\n"
     ]
    }
   ],
   "source": [
    "## Get malicious IPs, this is our ground truth\n",
    "\n",
    "malicious_ip_set = set()\n",
    "total_ip_set = set()\n",
    "malicious_ip_dic = {}\n",
    "\n",
    "for index, row in result.iterrows():\n",
    "    # Add new ip to hashmap\n",
    "    ip = row['ip']\n",
    "    context = row['context']\n",
    "    total_ip_set.add(ip)\n",
    "    if 'xm001' in context:\n",
    "        if not malicious_ip_dic.get(ip):\n",
    "            ip_info = IpInfo(None)\n",
    "            malicious_ip_dic[ip] = ip_info\n",
    "        else:\n",
    "            ip_info = malicious_ip_dic.get(ip)\n",
    "        user = row['user']\n",
    "        ip_info.add_user(user)\n",
    "        ip_info.increase_counter()\n",
    "        malicious_ip_set.add(ip)\n",
    "        \n",
    "\n",
    "print(len(malicious_ip_set))\n",
    "print(len(total_ip_set))"
   ]
  },
  {
   "cell_type": "code",
   "execution_count": 34,
   "id": "ed3f295e-f940-40ff-9ad8-68bfdcd4ad19",
   "metadata": {
    "tags": []
   },
   "outputs": [
    {
     "name": "stderr",
     "output_type": "stream",
     "text": [
      "/tmp/ipykernel_42229/3946504615.py:29: DeprecationWarning: parsing timezone aware datetimes is deprecated; this will raise an error in the future\n",
      "  timestamp = np.datetime64(datetime)\n",
      "/tmp/ipykernel_42229/3946504615.py:29: DeprecationWarning: parsing timezone aware datetimes is deprecated; this will raise an error in the future\n",
      "  timestamp = np.datetime64(datetime)\n",
      "/tmp/ipykernel_42229/3946504615.py:29: DeprecationWarning: parsing timezone aware datetimes is deprecated; this will raise an error in the future\n",
      "  timestamp = np.datetime64(datetime)\n",
      "/tmp/ipykernel_42229/3946504615.py:29: DeprecationWarning: parsing timezone aware datetimes is deprecated; this will raise an error in the future\n",
      "  timestamp = np.datetime64(datetime)\n",
      "/tmp/ipykernel_42229/3946504615.py:29: DeprecationWarning: parsing timezone aware datetimes is deprecated; this will raise an error in the future\n",
      "  timestamp = np.datetime64(datetime)\n",
      "/tmp/ipykernel_42229/3946504615.py:29: DeprecationWarning: parsing timezone aware datetimes is deprecated; this will raise an error in the future\n",
      "  timestamp = np.datetime64(datetime)\n",
      "/tmp/ipykernel_42229/3946504615.py:29: DeprecationWarning: parsing timezone aware datetimes is deprecated; this will raise an error in the future\n",
      "  timestamp = np.datetime64(datetime)\n",
      "/tmp/ipykernel_42229/3946504615.py:29: DeprecationWarning: parsing timezone aware datetimes is deprecated; this will raise an error in the future\n",
      "  timestamp = np.datetime64(datetime)\n",
      "/tmp/ipykernel_42229/3946504615.py:29: DeprecationWarning: parsing timezone aware datetimes is deprecated; this will raise an error in the future\n",
      "  timestamp = np.datetime64(datetime)\n"
     ]
    },
    {
     "name": "stdout",
     "output_type": "stream",
     "text": [
      "detected_ip_set has size 5551\n"
     ]
    }
   ],
   "source": [
    "# Now make it for IP addresses instead of user\n",
    "# For true positive rate look at the command number\n",
    "# This is one of the first versions of the script\n",
    "\n",
    "import numpy as np\n",
    "\n",
    "ip_dic = {}\n",
    "detected_ip_set = set()\n",
    "successfull_login_attempt = set()\n",
    "malicious_ips = set()\n",
    "\n",
    "# Define our tolerance levels\n",
    "# 3600\n",
    "\n",
    "# 4, 10000 -> 0.9924714871622001\n",
    "# 4, 3600 -> 0.9771856495994427\n",
    "# 7, 3600 -> 0.6372549019607843\n",
    "# 3, 3600 -> 0.9905811763064257\n",
    "# 9, 3600 -> 0.3194444444444444\n",
    "attempts_tolerance, seconds_tolerance = 9, 3600\n",
    "    \n",
    "# Loop through each row of dask dataframe\n",
    "for index, row in result.iterrows():\n",
    "    # Add new ip to hashmap\n",
    "    ip = row['ip']\n",
    "    datetime = row['dateTime']\n",
    "    timestamp = np.datetime64(datetime)\n",
    "    \n",
    "    if not ip_dic.get(ip):\n",
    "        # initialize object\n",
    "        ip_info = IpInfo(timestamp)\n",
    "        ip_dic[ip] = ip_info\n",
    "        \n",
    "    # Check if the \"context\" column contains the string \"logondenied\"\n",
    "    # This way we are ignoring Active Directory Error errors\n",
    "    if 'logondenied' in row['context']:\n",
    "        \n",
    "        ip_info = ip_dic[ip]\n",
    "        ip_info.increase_counter()\n",
    "        count = ip_info.get_counter()\n",
    "\n",
    "        if ip_info.get_counter() >= attempts_tolerance:       \n",
    "            diff = ip_info.get_timestamp_diff(timestamp)\n",
    "            # x login attemps in less than y seconds\n",
    "            if diff < seconds_tolerance:\n",
    "                detected_ip_set.add(ip)\n",
    "            else:\n",
    "                ip_info.reset_counter(timestamp)\n",
    "    elif 'ok' in row['context']:\n",
    "        ip_info.reset_counter(timestamp)\n",
    "        \n",
    "\n",
    "print(f\"detected_ip_set has size {len(detected_ip_set)}\")"
   ]
  },
  {
   "cell_type": "code",
   "execution_count": 29,
   "id": "8d959224-a3da-4a8e-b833-012187267d0d",
   "metadata": {
    "tags": []
   },
   "outputs": [
    {
     "name": "stderr",
     "output_type": "stream",
     "text": [
      "/tmp/ipykernel_51319/1802560390.py:27: DeprecationWarning: parsing timezone aware datetimes is deprecated; this will raise an error in the future\n",
      "  timestamp = np.datetime64(datetime)\n",
      "/tmp/ipykernel_51319/1802560390.py:27: DeprecationWarning: parsing timezone aware datetimes is deprecated; this will raise an error in the future\n",
      "  timestamp = np.datetime64(datetime)\n",
      "/tmp/ipykernel_51319/1802560390.py:27: DeprecationWarning: parsing timezone aware datetimes is deprecated; this will raise an error in the future\n",
      "  timestamp = np.datetime64(datetime)\n",
      "/tmp/ipykernel_51319/1802560390.py:27: DeprecationWarning: parsing timezone aware datetimes is deprecated; this will raise an error in the future\n",
      "  timestamp = np.datetime64(datetime)\n",
      "/tmp/ipykernel_51319/1802560390.py:27: DeprecationWarning: parsing timezone aware datetimes is deprecated; this will raise an error in the future\n",
      "  timestamp = np.datetime64(datetime)\n",
      "/tmp/ipykernel_51319/1802560390.py:27: DeprecationWarning: parsing timezone aware datetimes is deprecated; this will raise an error in the future\n",
      "  timestamp = np.datetime64(datetime)\n",
      "/tmp/ipykernel_51319/1802560390.py:27: DeprecationWarning: parsing timezone aware datetimes is deprecated; this will raise an error in the future\n",
      "  timestamp = np.datetime64(datetime)\n",
      "/tmp/ipykernel_51319/1802560390.py:27: DeprecationWarning: parsing timezone aware datetimes is deprecated; this will raise an error in the future\n",
      "  timestamp = np.datetime64(datetime)\n",
      "/tmp/ipykernel_51319/1802560390.py:27: DeprecationWarning: parsing timezone aware datetimes is deprecated; this will raise an error in the future\n",
      "  timestamp = np.datetime64(datetime)\n"
     ]
    },
    {
     "name": "stdout",
     "output_type": "stream",
     "text": [
      "detected_ip_set has size 41387\n"
     ]
    }
   ],
   "source": [
    "# Final Script\n",
    "\n",
    "import numpy as np\n",
    "\n",
    "# Treats the IP as /24 and returns the shortned result\n",
    "def get_short_ip(ip):\n",
    "    split_ip = ip.split('.')\n",
    "    split_ip.pop()\n",
    "    short_ip = '.'.join(split_ip)\n",
    "    return short_ip\n",
    "\n",
    "ip_dic = {}\n",
    "detected_ip_set = set()\n",
    "successfull_login_attempt = set()\n",
    "malicious_ips = set()\n",
    "malicious_users_set = set()\n",
    "short_ips = set()\n",
    "\n",
    "attempts_tolerance, seconds_tolerance = 3, 3600\n",
    "    \n",
    "# Loop through each row of dask dataframe\n",
    "for index, row in result.iterrows():\n",
    "\n",
    "    ip = row['ip']\n",
    "    user = row['user']\n",
    "    datetime = row['dateTime']\n",
    "    timestamp = np.datetime64(datetime)\n",
    "    \n",
    "    if not ip_dic.get(ip):\n",
    "        # initialize object\n",
    "        ip_info = IpInfo(timestamp)\n",
    "        ip_dic[ip] = ip_info\n",
    "        \n",
    "    context = row['context']    \n",
    "    # Check if the \"context\" column contains the string \"logondenied\"\n",
    "    # This way we are ignoring Active Directory Error errors\n",
    "    if 'logondenied' in context:\n",
    "        \n",
    "        ip_info = ip_dic[ip]\n",
    "        count = ip_info.increase_counter()\n",
    "        diff = ip_info.get_timestamp_diff(timestamp)\n",
    "        short_ip = get_short_ip(ip) # treats the IP as /24\n",
    "        ip_info.add_user(user)\n",
    "        \n",
    "        if (ip_info.get_counter() >= attempts_tolerance \\\n",
    "                and diff < seconds_tolerance) \\\n",
    "                or user in malicious_users_set \\\n",
    "                or short_ip in short_ips:       \n",
    "            detected_ip_set.add(ip)\n",
    "            short_ips.add(short_ip)\n",
    "            malicious_users_set = malicious_users_set.union(ip_info.get_users())\n",
    "            \n",
    "    elif 'ok' in context:\n",
    "        # this can be added to show that an affected user was broken into\n",
    "        if ip in detected_ip_set:\n",
    "            successfull_login_attempt.add(user)\n",
    "        # reset counters\n",
    "        ip_info.reset_counter(timestamp)\n",
    "        ip_info.reset_users()\n",
    "        \n",
    "\n",
    "print(f\"detected_ip_set has size {len(detected_ip_set)}\")"
   ]
  },
  {
   "cell_type": "code",
   "execution_count": 30,
   "id": "8da176cd-3272-4799-be56-7a2e95627f0b",
   "metadata": {
    "tags": []
   },
   "outputs": [
    {
     "data": {
      "text/plain": [
       "{'c.brolly@adz.pi', 'jincan'}"
      ]
     },
     "execution_count": 30,
     "metadata": {},
     "output_type": "execute_result"
    }
   ],
   "source": [
    "successfull_login_attempt"
   ]
  },
  {
   "cell_type": "code",
   "execution_count": 31,
   "id": "87d45edd-250e-4c4d-ac7e-403f37f898bd",
   "metadata": {
    "tags": []
   },
   "outputs": [
    {
     "ename": "NameError",
     "evalue": "name 'malicious_ip_set' is not defined",
     "output_type": "error",
     "traceback": [
      "\u001b[0;31m---------------------------------------------------------------------------\u001b[0m",
      "\u001b[0;31mNameError\u001b[0m                                 Traceback (most recent call last)",
      "Cell \u001b[0;32mIn[31], line 1\u001b[0m\n\u001b[0;32m----> 1\u001b[0m intersection \u001b[38;5;241m=\u001b[39m \u001b[43mmalicious_ip_set\u001b[49m\u001b[38;5;241m.\u001b[39mintersection(detected_ip_set)\n\u001b[1;32m      2\u001b[0m \u001b[38;5;28mprint\u001b[39m(\u001b[38;5;124mf\u001b[39m\u001b[38;5;124m\"\u001b[39m\u001b[38;5;124mlen of malicious_ip_set \u001b[39m\u001b[38;5;132;01m{\u001b[39;00m\u001b[38;5;28mlen\u001b[39m(malicious_ip_set)\u001b[38;5;132;01m}\u001b[39;00m\u001b[38;5;124m\"\u001b[39m)\n\u001b[1;32m      3\u001b[0m \u001b[38;5;28mprint\u001b[39m(\u001b[38;5;124mf\u001b[39m\u001b[38;5;124m\"\u001b[39m\u001b[38;5;124mlen of detected ips \u001b[39m\u001b[38;5;132;01m{\u001b[39;00m\u001b[38;5;28mlen\u001b[39m(detected_ip_set)\u001b[38;5;132;01m}\u001b[39;00m\u001b[38;5;124m\"\u001b[39m)\n",
      "\u001b[0;31mNameError\u001b[0m: name 'malicious_ip_set' is not defined"
     ]
    }
   ],
   "source": [
    "intersection = malicious_ip_set.intersection(detected_ip_set)\n",
    "print(f\"len of malicious_ip_set {len(malicious_ip_set)}\")\n",
    "print(f\"len of detected ips {len(detected_ip_set)}\")\n",
    "print(f\"len of intersection {len(intersection)}\")\n",
    "ratio = len(intersection) / len(detected_ip_set)\n",
    "false_positive_rate = 1 - ratio\n",
    "print(ratio)\n",
    "print(f\"false positive rate of {false_positive_rate}\")"
   ]
  },
  {
   "cell_type": "code",
   "execution_count": null,
   "id": "e216805f-9555-4fb4-b93f-e2c8ba8d741d",
   "metadata": {},
   "outputs": [],
   "source": [
    "'''\n",
    "Tarik 3, 3600\n",
    "len of malicious_ip_set 50794\n",
    "len of detected ips 41387\n",
    "len of intersection 41231\n",
    "0.9962307004614975\n",
    "false positive rate of 0.0037692995385024686\n",
    "\n",
    "Tarik++\n",
    "len of malicious_ip_set 50794\n",
    "len of detected ips 49992\n",
    "len of intersection 49829 (163 false positives)\n",
    "0.9967394783165306\n",
    "false positive rate of 0.003260521683469353\n",
    "'''"
   ]
  },
  {
   "cell_type": "code",
   "execution_count": 63,
   "id": "528d39d5-22e5-4806-9982-654cb1eb5dc1",
   "metadata": {
    "tags": []
   },
   "outputs": [
    {
     "data": {
      "text/plain": [
       "163"
      ]
     },
     "execution_count": 63,
     "metadata": {},
     "output_type": "execute_result"
    }
   ],
   "source": [
    "49992 - 49829"
   ]
  },
  {
   "cell_type": "code",
   "execution_count": 44,
   "id": "fa2adf89-5991-4673-8930-77b197fac0f7",
   "metadata": {
    "tags": []
   },
   "outputs": [
    {
     "name": "stdout",
     "output_type": "stream",
     "text": [
      "13135 IPs with less than 2 consecutive failed login attempts\n",
      "19334 IPs with less than 3 consecutive failed login attempts\n",
      "23280 IPs with less than 4 consecutive failed login attempts\n",
      "26156 IPs with less than 5 consecutive failed login attempts\n",
      "28327 IPs with less than 6 consecutive failed login attempts\n",
      "30096 IPs with less than 7 consecutive failed login attempts\n",
      "31638 IPs with less than 8 consecutive failed login attempts\n",
      "32935 IPs with less than 9 consecutive failed login attempts\n"
     ]
    }
   ],
   "source": [
    "for cons in range(2, 10):\n",
    "    low_attempts = 0\n",
    "    for key, value in sorted(malicious_ip_dic.items()): # Note the () after items!\n",
    "        if value.get_counter() < cons:\n",
    "            low_attempts += 1\n",
    "        # print(key, value)\n",
    "    print(f\"{low_attempts} IPs with less than {cons} consecutive failed login attempts\")"
   ]
  },
  {
   "cell_type": "code",
   "execution_count": 6,
   "id": "f828eedc-7eac-4398-b08a-4381b16b72a6",
   "metadata": {},
   "outputs": [],
   "source": [
    "import pandas as pd\n",
    "\n",
    "ips = pd.read_csv('sorted-ip.csv')"
   ]
  },
  {
   "cell_type": "code",
   "execution_count": 16,
   "id": "3162ea2f-b578-4600-889c-3a60ca02dcb3",
   "metadata": {
    "tags": []
   },
   "outputs": [
    {
     "data": {
      "text/html": [
       "<div>\n",
       "<style scoped>\n",
       "    .dataframe tbody tr th:only-of-type {\n",
       "        vertical-align: middle;\n",
       "    }\n",
       "\n",
       "    .dataframe tbody tr th {\n",
       "        vertical-align: top;\n",
       "    }\n",
       "\n",
       "    .dataframe thead th {\n",
       "        text-align: right;\n",
       "    }\n",
       "</style>\n",
       "<table border=\"1\" class=\"dataframe\">\n",
       "  <thead>\n",
       "    <tr style=\"text-align: right;\">\n",
       "      <th></th>\n",
       "      <th>user</th>\n",
       "      <th>ip</th>\n",
       "    </tr>\n",
       "  </thead>\n",
       "  <tbody>\n",
       "    <tr>\n",
       "      <th>0</th>\n",
       "      <td>t.cleaving@adz.pi</td>\n",
       "      <td>1201</td>\n",
       "    </tr>\n",
       "    <tr>\n",
       "      <th>1</th>\n",
       "      <td>e.o.met.sedan@adz.pi</td>\n",
       "      <td>1178</td>\n",
       "    </tr>\n",
       "    <tr>\n",
       "      <th>2</th>\n",
       "      <td>g.d.l.kerflop@adz.pi</td>\n",
       "      <td>1059</td>\n",
       "    </tr>\n",
       "    <tr>\n",
       "      <th>3</th>\n",
       "      <td>d.s.r.e.g.crow@adz.pi</td>\n",
       "      <td>943</td>\n",
       "    </tr>\n",
       "    <tr>\n",
       "      <th>4</th>\n",
       "      <td>s.axis@adz.pi</td>\n",
       "      <td>911</td>\n",
       "    </tr>\n",
       "    <tr>\n",
       "      <th>...</th>\n",
       "      <td>...</td>\n",
       "      <td>...</td>\n",
       "    </tr>\n",
       "    <tr>\n",
       "      <th>375</th>\n",
       "      <td>e.clang@adz.pi</td>\n",
       "      <td>200</td>\n",
       "    </tr>\n",
       "    <tr>\n",
       "      <th>376</th>\n",
       "      <td>g.t.g.gourmet@adz.pi</td>\n",
       "      <td>200</td>\n",
       "    </tr>\n",
       "    <tr>\n",
       "      <th>377</th>\n",
       "      <td>o.a.l.turnip@adz.pi</td>\n",
       "      <td>200</td>\n",
       "    </tr>\n",
       "    <tr>\n",
       "      <th>378</th>\n",
       "      <td>l.prospect@adz.pi</td>\n",
       "      <td>200</td>\n",
       "    </tr>\n",
       "    <tr>\n",
       "      <th>379</th>\n",
       "      <td>engobe@adz.pi</td>\n",
       "      <td>200</td>\n",
       "    </tr>\n",
       "  </tbody>\n",
       "</table>\n",
       "<p>380 rows × 2 columns</p>\n",
       "</div>"
      ],
      "text/plain": [
       "                      user    ip\n",
       "0        t.cleaving@adz.pi  1201\n",
       "1     e.o.met.sedan@adz.pi  1178\n",
       "2     g.d.l.kerflop@adz.pi  1059\n",
       "3    d.s.r.e.g.crow@adz.pi   943\n",
       "4            s.axis@adz.pi   911\n",
       "..                     ...   ...\n",
       "375         e.clang@adz.pi   200\n",
       "376   g.t.g.gourmet@adz.pi   200\n",
       "377    o.a.l.turnip@adz.pi   200\n",
       "378      l.prospect@adz.pi   200\n",
       "379          engobe@adz.pi   200\n",
       "\n",
       "[380 rows x 2 columns]"
      ]
     },
     "execution_count": 16,
     "metadata": {},
     "output_type": "execute_result"
    }
   ],
   "source": [
    "ips.head(380)"
   ]
  },
  {
   "cell_type": "code",
   "execution_count": null,
   "id": "237ea7a0-9e45-4a56-bea8-0bcc5b295975",
   "metadata": {},
   "outputs": [],
   "source": []
  }
 ],
 "metadata": {
  "kernelspec": {
   "display_name": "Python 3 (ipykernel)",
   "language": "python",
   "name": "python3"
  },
  "language_info": {
   "codemirror_mode": {
    "name": "ipython",
    "version": 3
   },
   "file_extension": ".py",
   "mimetype": "text/x-python",
   "name": "python",
   "nbconvert_exporter": "python",
   "pygments_lexer": "ipython3",
   "version": "3.10.10"
  }
 },
 "nbformat": 4,
 "nbformat_minor": 5
}
